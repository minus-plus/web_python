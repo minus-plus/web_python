{
 "cells": [
  {
   "cell_type": "code",
   "execution_count": 6,
   "metadata": {
    "collapsed": false
   },
   "outputs": [],
   "source": [
    "import urllib\n",
    "import urllib2\n",
    "from xml.dom import minidom\n",
    "url = 'http://www.nytimes.com/services/xml/rss/nyt/GlobalHome.xml'"
   ]
  },
  {
   "cell_type": "code",
   "execution_count": 2,
   "metadata": {
    "collapsed": true
   },
   "outputs": [],
   "source": [
    "p = urllib2.urlopen(url)"
   ]
  },
  {
   "cell_type": "code",
   "execution_count": 9,
   "metadata": {
    "collapsed": false
   },
   "outputs": [],
   "source": [
    "c = p.read()"
   ]
  },
  {
   "cell_type": "code",
   "execution_count": 11,
   "metadata": {
    "collapsed": false
   },
   "outputs": [],
   "source": [
    "x = minidom.parseString(c)"
   ]
  },
  {
   "cell_type": "code",
   "execution_count": 34,
   "metadata": {
    "collapsed": false,
    "scrolled": true
   },
   "outputs": [
    {
     "data": {
      "text/plain": [
       "['ATTRIBUTE_NODE',\n",
       " 'CDATA_SECTION_NODE',\n",
       " 'COMMENT_NODE',\n",
       " 'DOCUMENT_FRAGMENT_NODE',\n",
       " 'DOCUMENT_NODE',\n",
       " 'DOCUMENT_TYPE_NODE',\n",
       " 'ELEMENT_NODE',\n",
       " 'ENTITY_NODE',\n",
       " 'ENTITY_REFERENCE_NODE',\n",
       " 'NOTATION_NODE',\n",
       " 'PROCESSING_INSTRUCTION_NODE',\n",
       " 'TEXT_NODE',\n",
       " '__doc__',\n",
       " '__init__',\n",
       " '__module__',\n",
       " '__nonzero__',\n",
       " '_call_user_data_handler',\n",
       " '_child_node_types',\n",
       " '_create_entity',\n",
       " '_create_notation',\n",
       " '_elem_info',\n",
       " '_get_actualEncoding',\n",
       " '_get_async',\n",
       " '_get_childNodes',\n",
       " '_get_doctype',\n",
       " '_get_documentElement',\n",
       " '_get_documentURI',\n",
       " '_get_elem_info',\n",
       " '_get_encoding',\n",
       " '_get_errorHandler',\n",
       " '_get_firstChild',\n",
       " '_get_lastChild',\n",
       " '_get_localName',\n",
       " '_get_standalone',\n",
       " '_get_strictErrorChecking',\n",
       " '_get_version',\n",
       " '_id_cache',\n",
       " '_id_search_stack',\n",
       " '_magic_id_count',\n",
       " '_set_async',\n",
       " 'abort',\n",
       " 'actualEncoding',\n",
       " 'appendChild',\n",
       " 'async',\n",
       " 'attributes',\n",
       " 'childNodes',\n",
       " 'cloneNode',\n",
       " 'createAttribute',\n",
       " 'createAttributeNS',\n",
       " 'createCDATASection',\n",
       " 'createComment',\n",
       " 'createDocumentFragment',\n",
       " 'createElement',\n",
       " 'createElementNS',\n",
       " 'createProcessingInstruction',\n",
       " 'createTextNode',\n",
       " 'doctype',\n",
       " 'documentElement',\n",
       " 'documentURI',\n",
       " 'encoding',\n",
       " 'errorHandler',\n",
       " 'firstChild',\n",
       " 'getElementById',\n",
       " 'getElementsByTagName',\n",
       " 'getElementsByTagNameNS',\n",
       " 'getInterface',\n",
       " 'getUserData',\n",
       " 'hasChildNodes',\n",
       " 'implementation',\n",
       " 'importNode',\n",
       " 'insertBefore',\n",
       " 'isSameNode',\n",
       " 'isSupported',\n",
       " 'lastChild',\n",
       " 'load',\n",
       " 'loadXML',\n",
       " 'localName',\n",
       " 'namespaceURI',\n",
       " 'nextSibling',\n",
       " 'nodeName',\n",
       " 'nodeType',\n",
       " 'nodeValue',\n",
       " 'normalize',\n",
       " 'ownerDocument',\n",
       " 'parentNode',\n",
       " 'prefix',\n",
       " 'previousSibling',\n",
       " 'removeChild',\n",
       " 'renameNode',\n",
       " 'replaceChild',\n",
       " 'saveXML',\n",
       " 'setUserData',\n",
       " 'standalone',\n",
       " 'strictErrorChecking',\n",
       " 'toprettyxml',\n",
       " 'toxml',\n",
       " 'unlink',\n",
       " 'version',\n",
       " 'writexml']"
      ]
     },
     "execution_count": 34,
     "metadata": {},
     "output_type": "execute_result"
    }
   ],
   "source": [
    "dir(x)"
   ]
  },
  {
   "cell_type": "code",
   "execution_count": 19,
   "metadata": {
    "collapsed": false
   },
   "outputs": [],
   "source": [
    "item = x.getElementsByTagName('item')"
   ]
  },
  {
   "cell_type": "code",
   "execution_count": null,
   "metadata": {
    "collapsed": false
   },
   "outputs": [],
   "source": []
  },
  {
   "cell_type": "code",
   "execution_count": 21,
   "metadata": {
    "collapsed": false
   },
   "outputs": [
    {
     "data": {
      "text/plain": [
       "<DOM Element: item at 0x385d0d0>"
      ]
     },
     "execution_count": 21,
     "metadata": {},
     "output_type": "execute_result"
    }
   ],
   "source": [
    "item[0]"
   ]
  },
  {
   "cell_type": "code",
   "execution_count": 32,
   "metadata": {
    "collapsed": false
   },
   "outputs": [
    {
     "data": {
      "text/plain": [
       "[<DOM Element: atom:link at 0x385d120>,\n",
       " <DOM Element: title at 0x385d260>,\n",
       " <DOM Element: link at 0x385d2d8>,\n",
       " <DOM Element: description at 0x385d350>,\n",
       " <DOM Element: category at 0x385d3c8>,\n",
       " <DOM Element: category at 0x385d4b8>,\n",
       " <DOM Element: category at 0x385d5a8>,\n",
       " <DOM Element: category at 0x385d698>,\n",
       " <DOM Element: pubDate at 0x385d788>,\n",
       " <DOM Element: guid at 0x385d800>,\n",
       " <DOM Element: dc:creator at 0x385d8f0>,\n",
       " <DOM Element: media:credit at 0x385d968>,\n",
       " <DOM Element: media:description at 0x385da80>,\n",
       " <DOM Element: media:content at 0x385daf8>]"
      ]
     },
     "execution_count": 32,
     "metadata": {},
     "output_type": "execute_result"
    }
   ],
   "source": [
    "item[0].childNodes"
   ]
  },
  {
   "cell_type": "code",
   "execution_count": 33,
   "metadata": {
    "collapsed": false
   },
   "outputs": [
    {
     "data": {
      "text/plain": [
       "20"
      ]
     },
     "execution_count": 33,
     "metadata": {},
     "output_type": "execute_result"
    }
   ],
   "source": [
    "len(item)"
   ]
  },
  {
   "cell_type": "code",
   "execution_count": null,
   "metadata": {
    "collapsed": true
   },
   "outputs": [],
   "source": []
  }
 ],
 "metadata": {
  "kernelspec": {
   "display_name": "Python 2",
   "language": "python",
   "name": "python2"
  },
  "language_info": {
   "codemirror_mode": {
    "name": "ipython",
    "version": 2
   },
   "file_extension": ".py",
   "mimetype": "text/x-python",
   "name": "python",
   "nbconvert_exporter": "python",
   "pygments_lexer": "ipython2",
   "version": "2.7.11"
  }
 },
 "nbformat": 4,
 "nbformat_minor": 0
}
